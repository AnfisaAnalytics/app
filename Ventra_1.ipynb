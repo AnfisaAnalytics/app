{
 "cells": [
  {
   "cell_type": "markdown",
   "id": "9b8a5d23-6932-4bd1-bed5-7f0a2d58ba93",
   "metadata": {},
   "source": [
    "#  Итоговый файл по ссылке\n",
    "- https://docs.google.com/spreadsheets/d/18Ckya7-63RrjakdjeirR4xkjCMZUsUuJ/edit?usp=sharing&ouid=100993897678532417326&rtpof=true&sd=true"
   ]
  },
  {
   "cell_type": "code",
   "execution_count": null,
   "id": "6d14a272-91af-4b17-b2d7-38df1fe4b126",
   "metadata": {},
   "outputs": [],
   "source": []
  },
  {
   "cell_type": "code",
   "execution_count": null,
   "id": "f32b30ba-7a40-4d84-a6cf-e265e0e0abc0",
   "metadata": {},
   "outputs": [],
   "source": []
  },
  {
   "cell_type": "code",
   "execution_count": null,
   "id": "1db403f6-8a71-491f-b649-9ee3bb14ee9b",
   "metadata": {},
   "outputs": [],
   "source": []
  },
  {
   "cell_type": "markdown",
   "id": "8c700dd1-7d78-4fd1-83ca-8f38d4628542",
   "metadata": {},
   "source": [
    "# Знакомимся с данными"
   ]
  },
  {
   "cell_type": "code",
   "execution_count": 1,
   "id": "094b2b18-c6d3-4137-b1f6-5ba6a3af70f4",
   "metadata": {},
   "outputs": [],
   "source": [
    "import pandas as pd\n",
    "import numpy as np\n",
    "import openpyxl\n",
    "from openpyxl.styles import PatternFill"
   ]
  },
  {
   "cell_type": "code",
   "execution_count": 2,
   "id": "8e7012b1-ba4d-41b0-a54d-251cd0f89ddd",
   "metadata": {},
   "outputs": [],
   "source": [
    "# Загрузка данных\n",
    "excel_file = '../Задание №1.xlsx'\n",
    "df_main = pd.read_excel(excel_file, sheet_name='Sheet2')\n",
    "df_sheet1 = pd.read_excel(excel_file, sheet_name='Sheet1')"
   ]
  },
  {
   "cell_type": "code",
   "execution_count": 3,
   "id": "2758989b-39e5-4c3d-b013-85c103de3472",
   "metadata": {},
   "outputs": [],
   "source": [
    "# Список новых имён для столбцов\n",
    "new_column_names = ['Менеджер', 'Оператор', 'Предоставление реестров', '% предоставления', '\"ДА\", если предоставление 50% и более процентов', 'GUM', 'CNF', 'SV', 'розовая заливка']\n",
    "\n",
    "# Создание словаря для переименования\n",
    "rename_dict = dict(zip(df_main.columns, new_column_names))\n",
    "\n",
    "# Переименование столбцов\n",
    "df_main = df_main.rename(columns=rename_dict)"
   ]
  },
  {
   "cell_type": "code",
   "execution_count": 4,
   "id": "c5048e7f-83ab-4c6f-9dcc-827920742611",
   "metadata": {},
   "outputs": [
    {
     "data": {
      "text/html": [
       "<div>\n",
       "<style scoped>\n",
       "    .dataframe tbody tr th:only-of-type {\n",
       "        vertical-align: middle;\n",
       "    }\n",
       "\n",
       "    .dataframe tbody tr th {\n",
       "        vertical-align: top;\n",
       "    }\n",
       "\n",
       "    .dataframe thead th {\n",
       "        text-align: right;\n",
       "    }\n",
       "</style>\n",
       "<table border=\"1\" class=\"dataframe\">\n",
       "  <thead>\n",
       "    <tr style=\"text-align: right;\">\n",
       "      <th></th>\n",
       "      <th>Менеджер</th>\n",
       "      <th>Оператор</th>\n",
       "      <th>Предоставление реестров</th>\n",
       "      <th>% предоставления</th>\n",
       "      <th>\"ДА\", если предоставление 50% и более процентов</th>\n",
       "      <th>GUM</th>\n",
       "      <th>CNF</th>\n",
       "      <th>SV</th>\n",
       "    </tr>\n",
       "  </thead>\n",
       "  <tbody>\n",
       "    <tr>\n",
       "      <th>10</th>\n",
       "      <td>Леденев Андрей</td>\n",
       "      <td>Орлова Таня</td>\n",
       "      <td>1.0</td>\n",
       "      <td>NaN</td>\n",
       "      <td>NaN</td>\n",
       "      <td>NaN</td>\n",
       "      <td>NaN</td>\n",
       "      <td>NaN</td>\n",
       "    </tr>\n",
       "    <tr>\n",
       "      <th>34</th>\n",
       "      <td>Брагарь Олег</td>\n",
       "      <td>Федорова Таня</td>\n",
       "      <td>0.0</td>\n",
       "      <td>NaN</td>\n",
       "      <td>NaN</td>\n",
       "      <td>NaN</td>\n",
       "      <td>NaN</td>\n",
       "      <td>NaN</td>\n",
       "    </tr>\n",
       "    <tr>\n",
       "      <th>74</th>\n",
       "      <td>Шлюшенков Александр</td>\n",
       "      <td>Бодрова Анна</td>\n",
       "      <td>1.0</td>\n",
       "      <td>NaN</td>\n",
       "      <td>NaN</td>\n",
       "      <td>NaN</td>\n",
       "      <td>NaN</td>\n",
       "      <td>NaN</td>\n",
       "    </tr>\n",
       "    <tr>\n",
       "      <th>62</th>\n",
       "      <td>Моргунов Андрей</td>\n",
       "      <td>Бодрова Анна</td>\n",
       "      <td>1.0</td>\n",
       "      <td>NaN</td>\n",
       "      <td>NaN</td>\n",
       "      <td>NaN</td>\n",
       "      <td>NaN</td>\n",
       "      <td>NaN</td>\n",
       "    </tr>\n",
       "    <tr>\n",
       "      <th>26</th>\n",
       "      <td>Малышев Сергей</td>\n",
       "      <td>Федорова Таня</td>\n",
       "      <td>1.0</td>\n",
       "      <td>NaN</td>\n",
       "      <td>NaN</td>\n",
       "      <td>NaN</td>\n",
       "      <td>NaN</td>\n",
       "      <td>NaN</td>\n",
       "    </tr>\n",
       "  </tbody>\n",
       "</table>\n",
       "</div>"
      ],
      "text/plain": [
       "               Менеджер       Оператор  Предоставление реестров  \\\n",
       "10       Леденев Андрей    Орлова Таня                      1.0   \n",
       "34         Брагарь Олег  Федорова Таня                      0.0   \n",
       "74  Шлюшенков Александр   Бодрова Анна                      1.0   \n",
       "62      Моргунов Андрей   Бодрова Анна                      1.0   \n",
       "26       Малышев Сергей  Федорова Таня                      1.0   \n",
       "\n",
       "    % предоставления  \"ДА\", если предоставление 50% и более процентов  GUM  \\\n",
       "10               NaN                                              NaN  NaN   \n",
       "34               NaN                                              NaN  NaN   \n",
       "74               NaN                                              NaN  NaN   \n",
       "62               NaN                                              NaN  NaN   \n",
       "26               NaN                                              NaN  NaN   \n",
       "\n",
       "    CNF  SV  \n",
       "10  NaN NaN  \n",
       "34  NaN NaN  \n",
       "74  NaN NaN  \n",
       "62  NaN NaN  \n",
       "26  NaN NaN  "
      ]
     },
     "execution_count": 4,
     "metadata": {},
     "output_type": "execute_result"
    }
   ],
   "source": [
    "# Выведем названия столбцов, чтобы увидеть правильное написание\n",
    "df_main.sample(5)"
   ]
  },
  {
   "cell_type": "markdown",
   "id": "988918dd-3081-4e04-baae-d892e868b869",
   "metadata": {},
   "source": [
    "#### #1\n",
    "## Количество всех менеджеров по всем операторам"
   ]
  },
  {
   "cell_type": "code",
   "execution_count": 5,
   "id": "19226988-92cc-4c72-add8-a288c942e1d4",
   "metadata": {},
   "outputs": [
    {
     "name": "stdout",
     "output_type": "stream",
     "text": [
      "Всего менеджеров: 64\n"
     ]
    }
   ],
   "source": [
    "# 1. Количество всех менеджеров по всем операторам\n",
    "total_managers = df_main['Менеджер'].nunique()\n",
    "print(f\"Всего менеджеров: {total_managers}\")"
   ]
  },
  {
   "cell_type": "markdown",
   "id": "e970fa1a-cce3-40d9-85dd-afde8fe674f9",
   "metadata": {},
   "source": [
    "#### #2\n",
    "## Количество менеджеров с предоставленным реестром"
   ]
  },
  {
   "cell_type": "code",
   "execution_count": 6,
   "id": "26f34d35-396e-464f-a422-49b8cb0af4a4",
   "metadata": {},
   "outputs": [
    {
     "name": "stdout",
     "output_type": "stream",
     "text": [
      "Менеджеров с реестром: 37\n"
     ]
    }
   ],
   "source": [
    "# 2. Количество менеджеров с предоставленным реестром\n",
    "managers_with_registry = df_main[df_main['Предоставление реестров'] >= 1]['Менеджер'].nunique()\n",
    "print(f\"Менеджеров с реестром: {managers_with_registry}\")"
   ]
  },
  {
   "cell_type": "markdown",
   "id": "ec4b6caa-29c2-4464-a722-0e255077a927",
   "metadata": {},
   "source": [
    "#### #3\n",
    "## Расчет процента выполнения по предоставлению реестров для каждого оператора"
   ]
  },
  {
   "cell_type": "code",
   "execution_count": 7,
   "id": "356de897-8002-4156-a051-97dcea864199",
   "metadata": {},
   "outputs": [],
   "source": [
    "# 3. Расчет процента выполнения по предоставлению реестров для каждого оператора\n",
    "operator_stats = df_main.groupby('Оператор').agg(\n",
    "    total_managers=('Менеджер', 'nunique'),\n",
    "    registry_provided=('Предоставление реестров', lambda x: sum(x >= 1))\n",
    ")\n",
    "operator_stats['% предоставления'] = (operator_stats['registry_provided'] / operator_stats['total_managers']) * 100"
   ]
  },
  {
   "cell_type": "code",
   "execution_count": 8,
   "id": "ac9a66ce-06da-4af9-ab96-82bf2f186e77",
   "metadata": {},
   "outputs": [
    {
     "data": {
      "text/html": [
       "<div>\n",
       "<style scoped>\n",
       "    .dataframe tbody tr th:only-of-type {\n",
       "        vertical-align: middle;\n",
       "    }\n",
       "\n",
       "    .dataframe tbody tr th {\n",
       "        vertical-align: top;\n",
       "    }\n",
       "\n",
       "    .dataframe thead th {\n",
       "        text-align: right;\n",
       "    }\n",
       "</style>\n",
       "<table border=\"1\" class=\"dataframe\">\n",
       "  <thead>\n",
       "    <tr style=\"text-align: right;\">\n",
       "      <th></th>\n",
       "      <th>total_managers</th>\n",
       "      <th>registry_provided</th>\n",
       "      <th>% предоставления</th>\n",
       "    </tr>\n",
       "    <tr>\n",
       "      <th>Оператор</th>\n",
       "      <th></th>\n",
       "      <th></th>\n",
       "      <th></th>\n",
       "    </tr>\n",
       "  </thead>\n",
       "  <tbody>\n",
       "    <tr>\n",
       "      <th>Бодрова Анна</th>\n",
       "      <td>20</td>\n",
       "      <td>13</td>\n",
       "      <td>65.000000</td>\n",
       "    </tr>\n",
       "    <tr>\n",
       "      <th>Орлова Таня</th>\n",
       "      <td>17</td>\n",
       "      <td>7</td>\n",
       "      <td>41.176471</td>\n",
       "    </tr>\n",
       "    <tr>\n",
       "      <th>Уткина Анна</th>\n",
       "      <td>9</td>\n",
       "      <td>9</td>\n",
       "      <td>100.000000</td>\n",
       "    </tr>\n",
       "    <tr>\n",
       "      <th>Федорова Таня</th>\n",
       "      <td>18</td>\n",
       "      <td>12</td>\n",
       "      <td>66.666667</td>\n",
       "    </tr>\n",
       "  </tbody>\n",
       "</table>\n",
       "</div>"
      ],
      "text/plain": [
       "               total_managers  registry_provided  % предоставления\n",
       "Оператор                                                          \n",
       "Бодрова Анна               20                 13         65.000000\n",
       "Орлова Таня                17                  7         41.176471\n",
       "Уткина Анна                 9                  9        100.000000\n",
       "Федорова Таня              18                 12         66.666667"
      ]
     },
     "execution_count": 8,
     "metadata": {},
     "output_type": "execute_result"
    }
   ],
   "source": [
    "operator_stats"
   ]
  },
  {
   "cell_type": "markdown",
   "id": "06d72623-fd6b-434c-b7e0-686e86cc95a8",
   "metadata": {},
   "source": [
    "### #4 #5 #6\n",
    "## Заполняем колонки по условиям, агрегирует данные"
   ]
  },
  {
   "cell_type": "code",
   "execution_count": 9,
   "id": "098500ca-1af3-4014-ae52-3a577d987ec2",
   "metadata": {},
   "outputs": [],
   "source": [
    "operator_stats_df = operator_stats.reset_index()\n",
    "# Создание словаря маппинга: значение из первой колонки -> значение из третьей колонки\n",
    "mapping = dict(zip(operator_stats_df.iloc[:, 0], operator_stats_df.iloc[:, 3]))\n",
    "\n",
    "# Заполнение колонки b в первой таблице\n",
    "df_main['% предоставления'] = df_main['Оператор'].map(mapping)\n"
   ]
  },
  {
   "cell_type": "code",
   "execution_count": 10,
   "id": "b8e2eb6f-b328-47ba-adf0-0dd19cff918c",
   "metadata": {},
   "outputs": [],
   "source": [
    "# 4-5. Создание колонок с условиями\n",
    "# df_main['розовая заливка'] = df_main['% предоставления'] >= 80\n",
    "df_main[' \"ДА\", если предоставление 50% и более процентов'] = np.where(df_main['% предоставления'] >= 50, 'Да', '')"
   ]
  },
  {
   "cell_type": "code",
   "execution_count": 11,
   "id": "b63f5174-5f55-4cf5-a513-ba758f15b78c",
   "metadata": {},
   "outputs": [],
   "source": [
    "# 6. Агрегация данных из Sheet1 по менеджерам\n",
    "product_summary = df_sheet1.groupby('Менеджер').agg({\n",
    "    'GUM': 'sum',\n",
    "    'CNF': 'sum',\n",
    "    'SV': 'sum'\n",
    "})"
   ]
  },
  {
   "cell_type": "code",
   "execution_count": 12,
   "id": "232ad4ef-781a-44f3-a9c4-6778bb555498",
   "metadata": {},
   "outputs": [],
   "source": [
    "# Форматирование чисел (одна цифра после запятой с разделителем тысяч)\n",
    "for col in ['GUM', 'CNF', 'SV']:\n",
    "    product_summary[col] = product_summary[col].apply(lambda x: f\"{x:,.1f}\")"
   ]
  },
  {
   "cell_type": "code",
   "execution_count": 13,
   "id": "e2e3c3e3-574c-4948-9a51-f1fa577d9161",
   "metadata": {},
   "outputs": [
    {
     "data": {
      "text/html": [
       "<div>\n",
       "<style scoped>\n",
       "    .dataframe tbody tr th:only-of-type {\n",
       "        vertical-align: middle;\n",
       "    }\n",
       "\n",
       "    .dataframe tbody tr th {\n",
       "        vertical-align: top;\n",
       "    }\n",
       "\n",
       "    .dataframe thead th {\n",
       "        text-align: right;\n",
       "    }\n",
       "</style>\n",
       "<table border=\"1\" class=\"dataframe\">\n",
       "  <thead>\n",
       "    <tr style=\"text-align: right;\">\n",
       "      <th></th>\n",
       "      <th>GUM</th>\n",
       "      <th>CNF</th>\n",
       "      <th>SV</th>\n",
       "    </tr>\n",
       "    <tr>\n",
       "      <th>Менеджер</th>\n",
       "      <th></th>\n",
       "      <th></th>\n",
       "      <th></th>\n",
       "    </tr>\n",
       "  </thead>\n",
       "  <tbody>\n",
       "    <tr>\n",
       "      <th>Магомедов Салман</th>\n",
       "      <td>87,392.7</td>\n",
       "      <td>59,364.4</td>\n",
       "      <td>9,406.7</td>\n",
       "    </tr>\n",
       "    <tr>\n",
       "      <th>Ларионов Роман</th>\n",
       "      <td>38,542.9</td>\n",
       "      <td>26,287.4</td>\n",
       "      <td>4,168.7</td>\n",
       "    </tr>\n",
       "    <tr>\n",
       "      <th>Алексеев Павел</th>\n",
       "      <td>3,749.3</td>\n",
       "      <td>2,582.5</td>\n",
       "      <td>418.0</td>\n",
       "    </tr>\n",
       "    <tr>\n",
       "      <th>Суриков Владимир</th>\n",
       "      <td>62,967.8</td>\n",
       "      <td>42,825.9</td>\n",
       "      <td>6,787.7</td>\n",
       "    </tr>\n",
       "  </tbody>\n",
       "</table>\n",
       "</div>"
      ],
      "text/plain": [
       "                       GUM       CNF       SV\n",
       "Менеджер                                     \n",
       "Магомедов Салман  87,392.7  59,364.4  9,406.7\n",
       "Ларионов Роман    38,542.9  26,287.4  4,168.7\n",
       "Алексеев Павел     3,749.3   2,582.5    418.0\n",
       "Суриков Владимир  62,967.8  42,825.9  6,787.7"
      ]
     },
     "execution_count": 13,
     "metadata": {},
     "output_type": "execute_result"
    }
   ],
   "source": [
    "product_summary.sample(4)"
   ]
  },
  {
   "cell_type": "markdown",
   "id": "cb48d092-4fad-43f7-9bae-5a8f1f90016d",
   "metadata": {},
   "source": [
    "##    Экспортируем"
   ]
  },
  {
   "cell_type": "code",
   "execution_count": 14,
   "id": "fde09f5b-03df-4c70-9255-5970a2ef7990",
   "metadata": {},
   "outputs": [],
   "source": [
    "# Объединение данных\n",
    "df = pd.merge(df_main, product_summary, on='Менеджер', how='left')\n",
    "df = df.loc[:, ~df.columns.str.endswith('_x')]\n",
    "\n",
    "# Переименовываем столбцы с суффиксом '_y', убирая '_y'\n",
    "df.columns = df.columns.str.replace('_y', '', regex=False)\n",
    "df.drop('\"ДА\", если предоставление 50% и более процентов', axis=1, inplace=True)\n"
   ]
  },
  {
   "cell_type": "code",
   "execution_count": 16,
   "id": "c5d4873d-4c26-44cc-9d1f-b0f3f9f4ee9e",
   "metadata": {},
   "outputs": [],
   "source": [
    "# Сохранение результатов\n",
    "df.to_excel('h0gggg.xlsx', index=False)"
   ]
  }
 ],
 "metadata": {
  "kernelspec": {
   "display_name": "Python 3 (ipykernel)",
   "language": "python",
   "name": "python3"
  },
  "language_info": {
   "codemirror_mode": {
    "name": "ipython",
    "version": 3
   },
   "file_extension": ".py",
   "mimetype": "text/x-python",
   "name": "python",
   "nbconvert_exporter": "python",
   "pygments_lexer": "ipython3",
   "version": "3.9.6"
  }
 },
 "nbformat": 4,
 "nbformat_minor": 5
}
